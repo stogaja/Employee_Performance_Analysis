{
  "cells": [
    {
      "cell_type": "code",
      "execution_count": 35,
      "metadata": {
        "id": "BNHK76tf9K28"
      },
      "outputs": [],
      "source": [
        "# lets import the libraries we need\n",
        "import pandas as pd\n",
        "import numpy as np\n",
        "import matplotlib.pyplot as plt\n",
        "import seaborn as sns\n",
        "from sklearn import svm\n",
        "from sklearn.model_selection import train_test_split\n",
        "from sklearn.ensemble import RandomForestClassifier\n",
        "from sklearn.preprocessing import StandardScaler, LabelEncoder, Normalizer\n",
        "from sklearn.discriminant_analysis import LinearDiscriminantAnalysis as LDA\n",
        "from sklearn.model_selection import train_test_split\n",
        "from sklearn.metrics import r2_score, f1_score, precision_score, recall_score, classification_report, accuracy_score, confusion_matrix, ConfusionMatrixDisplay\n",
        "from sklearn.neighbors import KNeighborsClassifier\n",
        "from sklearn.naive_bayes import GaussianNB, MultinomialNB, BernoulliNB, ComplementNB, CategoricalNB\n",
        "from sklearn.model_selection import GridSearchCV, RandomizedSearchCV\n",
        "from sklearn.tree import export_graphviz\n",
        "from sklearn.feature_extraction.text import TfidfVectorizer\n",
        "from sklearn.linear_model import LogisticRegression\n",
        "import re\n",
        "from plotly.subplots import make_subplots\n",
        "import plotly.graph_objects as go\n",
        "from six import StringIO\n",
        "from IPython.display import Image\n",
        "import pydotplus\n",
        "import os\n",
        "\n",
        "# filter to ignore warnings\n",
        "import warnings\n",
        "warnings.filterwarnings('ignore')\n"
      ]
    },
    {
      "cell_type": "markdown",
      "metadata": {
        "id": "b-D21JumAGN7"
      },
      "source": [
        "Reading the data"
      ]
    },
    {
      "cell_type": "code",
      "execution_count": 36,
      "metadata": {
        "id": "CcCGSN0CAILp"
      },
      "outputs": [],
      "source": [
        "# lets read the csv file\n",
        "df1 = pd.read_excel('Case_Study_Data_.xlsx', sheet_name='Case Study 1')"
      ]
    },
    {
      "cell_type": "code",
      "execution_count": 37,
      "metadata": {
        "colab": {
          "base_uri": "https://localhost:8080/",
          "height": 206
        },
        "id": "-XkfwEOBAdeA",
        "outputId": "af87c34c-6190-4489-c43e-200be878a1bb"
      },
      "outputs": [
        {
          "data": {
            "text/html": [
              "<div>\n",
              "<style scoped>\n",
              "    .dataframe tbody tr th:only-of-type {\n",
              "        vertical-align: middle;\n",
              "    }\n",
              "\n",
              "    .dataframe tbody tr th {\n",
              "        vertical-align: top;\n",
              "    }\n",
              "\n",
              "    .dataframe thead th {\n",
              "        text-align: right;\n",
              "    }\n",
              "</style>\n",
              "<table border=\"1\" class=\"dataframe\">\n",
              "  <thead>\n",
              "    <tr style=\"text-align: right;\">\n",
              "      <th></th>\n",
              "      <th>Unnamed: 0</th>\n",
              "      <th>Unnamed: 1</th>\n",
              "      <th>Productivity</th>\n",
              "      <th>Quality</th>\n",
              "      <th>Attendance</th>\n",
              "    </tr>\n",
              "  </thead>\n",
              "  <tbody>\n",
              "    <tr>\n",
              "      <th>0</th>\n",
              "      <td>Employee No</td>\n",
              "      <td>Project</td>\n",
              "      <td>Score</td>\n",
              "      <td>Score</td>\n",
              "      <td>Score</td>\n",
              "    </tr>\n",
              "    <tr>\n",
              "      <th>1</th>\n",
              "      <td>397</td>\n",
              "      <td>QQQQ</td>\n",
              "      <td>1.8164</td>\n",
              "      <td>0.8374</td>\n",
              "      <td>1</td>\n",
              "    </tr>\n",
              "    <tr>\n",
              "      <th>2</th>\n",
              "      <td>91</td>\n",
              "      <td>AAAA</td>\n",
              "      <td>1.1702</td>\n",
              "      <td>0.9714</td>\n",
              "      <td>1</td>\n",
              "    </tr>\n",
              "    <tr>\n",
              "      <th>3</th>\n",
              "      <td>186</td>\n",
              "      <td>AAAA</td>\n",
              "      <td>1.2785</td>\n",
              "      <td>0.9704</td>\n",
              "      <td>0.9933</td>\n",
              "    </tr>\n",
              "    <tr>\n",
              "      <th>4</th>\n",
              "      <td>318</td>\n",
              "      <td>AAAA</td>\n",
              "      <td>1.2173</td>\n",
              "      <td>0.9891</td>\n",
              "      <td>1</td>\n",
              "    </tr>\n",
              "  </tbody>\n",
              "</table>\n",
              "</div>"
            ],
            "text/plain": [
              "    Unnamed: 0 Unnamed: 1 Productivity Quality Attendance\n",
              "0  Employee No   Project         Score   Score      Score\n",
              "1          397       QQQQ       1.8164  0.8374          1\n",
              "2           91       AAAA       1.1702  0.9714          1\n",
              "3          186       AAAA       1.2785  0.9704     0.9933\n",
              "4          318       AAAA       1.2173  0.9891          1"
            ]
          },
          "execution_count": 37,
          "metadata": {},
          "output_type": "execute_result"
        }
      ],
      "source": [
        "# previewing the data\n",
        "df1.head()"
      ]
    },
    {
      "cell_type": "code",
      "execution_count": 38,
      "metadata": {
        "colab": {
          "base_uri": "https://localhost:8080/"
        },
        "id": "x1z5Kb_MCFXq",
        "outputId": "24737f82-bcce-4aab-8065-aa9996220b81"
      },
      "outputs": [
        {
          "data": {
            "text/plain": [
              "(478, 5)"
            ]
          },
          "execution_count": 38,
          "metadata": {},
          "output_type": "execute_result"
        }
      ],
      "source": [
        "# lets see the side of the dataset\n",
        "df1.shape"
      ]
    },
    {
      "cell_type": "code",
      "execution_count": 39,
      "metadata": {
        "colab": {
          "base_uri": "https://localhost:8080/"
        },
        "id": "5-6bBXWRCIhQ",
        "outputId": "03aacfd4-74cd-4155-c1b4-354361a82f12"
      },
      "outputs": [
        {
          "data": {
            "text/plain": [
              "Index(['Unnamed: 0', 'Unnamed: 1', 'Productivity', 'Quality', 'Attendance'], dtype='object')"
            ]
          },
          "execution_count": 39,
          "metadata": {},
          "output_type": "execute_result"
        }
      ],
      "source": [
        "# lets see the columns\n",
        "df1.columns"
      ]
    },
    {
      "cell_type": "code",
      "execution_count": 40,
      "metadata": {
        "colab": {
          "base_uri": "https://localhost:8080/"
        },
        "id": "weiwF_G1CvvQ",
        "outputId": "24f12a58-5d2f-48a3-93bb-f860ac2091a4"
      },
      "outputs": [
        {
          "data": {
            "text/plain": [
              "Index(['Employee_Number', 'Project', 'Productivity', 'Quality', 'Attendance'], dtype='object')"
            ]
          },
          "execution_count": 40,
          "metadata": {},
          "output_type": "execute_result"
        }
      ],
      "source": [
        "# lets rename the first two columns to employee number and project\n",
        "df1 = df1.rename(columns = {'Unnamed: 0': 'Employee_Number', 'Unnamed: 1': 'Project'})\n",
        "df1.columns"
      ]
    },
    {
      "cell_type": "code",
      "execution_count": 41,
      "metadata": {
        "colab": {
          "base_uri": "https://localhost:8080/",
          "height": 206
        },
        "id": "M8o27O-lEuzu",
        "outputId": "197bacea-b2cc-4cad-acbc-99b75990667b"
      },
      "outputs": [
        {
          "data": {
            "text/html": [
              "<div>\n",
              "<style scoped>\n",
              "    .dataframe tbody tr th:only-of-type {\n",
              "        vertical-align: middle;\n",
              "    }\n",
              "\n",
              "    .dataframe tbody tr th {\n",
              "        vertical-align: top;\n",
              "    }\n",
              "\n",
              "    .dataframe thead th {\n",
              "        text-align: right;\n",
              "    }\n",
              "</style>\n",
              "<table border=\"1\" class=\"dataframe\">\n",
              "  <thead>\n",
              "    <tr style=\"text-align: right;\">\n",
              "      <th></th>\n",
              "      <th>Employee_Number</th>\n",
              "      <th>Project</th>\n",
              "      <th>Productivity</th>\n",
              "      <th>Quality</th>\n",
              "      <th>Attendance</th>\n",
              "    </tr>\n",
              "  </thead>\n",
              "  <tbody>\n",
              "    <tr>\n",
              "      <th>1</th>\n",
              "      <td>397</td>\n",
              "      <td>QQQQ</td>\n",
              "      <td>1.8164</td>\n",
              "      <td>0.8374</td>\n",
              "      <td>1</td>\n",
              "    </tr>\n",
              "    <tr>\n",
              "      <th>2</th>\n",
              "      <td>91</td>\n",
              "      <td>AAAA</td>\n",
              "      <td>1.1702</td>\n",
              "      <td>0.9714</td>\n",
              "      <td>1</td>\n",
              "    </tr>\n",
              "    <tr>\n",
              "      <th>3</th>\n",
              "      <td>186</td>\n",
              "      <td>AAAA</td>\n",
              "      <td>1.2785</td>\n",
              "      <td>0.9704</td>\n",
              "      <td>0.9933</td>\n",
              "    </tr>\n",
              "    <tr>\n",
              "      <th>4</th>\n",
              "      <td>318</td>\n",
              "      <td>AAAA</td>\n",
              "      <td>1.2173</td>\n",
              "      <td>0.9891</td>\n",
              "      <td>1</td>\n",
              "    </tr>\n",
              "    <tr>\n",
              "      <th>5</th>\n",
              "      <td>362</td>\n",
              "      <td>AAAA</td>\n",
              "      <td>1.1918</td>\n",
              "      <td>0.9754</td>\n",
              "      <td>0.984</td>\n",
              "    </tr>\n",
              "  </tbody>\n",
              "</table>\n",
              "</div>"
            ],
            "text/plain": [
              "  Employee_Number Project Productivity Quality Attendance\n",
              "1             397    QQQQ       1.8164  0.8374          1\n",
              "2              91    AAAA       1.1702  0.9714          1\n",
              "3             186    AAAA       1.2785  0.9704     0.9933\n",
              "4             318    AAAA       1.2173  0.9891          1\n",
              "5             362    AAAA       1.1918  0.9754      0.984"
            ]
          },
          "execution_count": 41,
          "metadata": {},
          "output_type": "execute_result"
        }
      ],
      "source": [
        "# lets remove the first row of data from the dataset\n",
        "df1 = df1.iloc[1:]\n",
        "df1.head()"
      ]
    },
    {
      "cell_type": "code",
      "execution_count": 42,
      "metadata": {
        "colab": {
          "base_uri": "https://localhost:8080/"
        },
        "id": "9leDZjwvEyHM",
        "outputId": "9f3e1bb2-5dfe-4981-bf60-e8cb2a077340"
      },
      "outputs": [
        {
          "data": {
            "text/plain": [
              "Employee_Number      int64\n",
              "Project             object\n",
              "Productivity       float64\n",
              "Quality            float64\n",
              "Attendance         float64\n",
              "dtype: object"
            ]
          },
          "execution_count": 42,
          "metadata": {},
          "output_type": "execute_result"
        }
      ],
      "source": [
        "# lets convert the data types in column 1 to int, column 3,4,5 to float\n",
        "\n",
        "# Convert column 1 to integer\n",
        "df1['Employee_Number'] = df1['Employee_Number'].astype(int)\n",
        "\n",
        "# Convert columns 3, 4, and 5 to float\n",
        "df1[['Productivity', 'Quality', 'Attendance']] = df1[['Productivity', 'Quality', 'Attendance']].astype(float)\n",
        "df1.dtypes"
      ]
    },
    {
      "cell_type": "code",
      "execution_count": 43,
      "metadata": {
        "colab": {
          "base_uri": "https://localhost:8080/"
        },
        "id": "dBXTr32_GYaI",
        "outputId": "1c71f7ac-2696-4bae-f99e-259cafc0e7fe"
      },
      "outputs": [
        {
          "data": {
            "text/plain": [
              "Employee_Number    0\n",
              "Project            0\n",
              "Productivity       5\n",
              "Quality            6\n",
              "Attendance         1\n",
              "dtype: int64"
            ]
          },
          "execution_count": 43,
          "metadata": {},
          "output_type": "execute_result"
        }
      ],
      "source": [
        "# lets check for missing values\n",
        "df1.isnull().sum()"
      ]
    },
    {
      "cell_type": "code",
      "execution_count": 44,
      "metadata": {
        "colab": {
          "base_uri": "https://localhost:8080/"
        },
        "id": "EenKWYkJH08n",
        "outputId": "a061522b-e3cf-4ca7-aae7-db5c5af5bb11"
      },
      "outputs": [
        {
          "data": {
            "text/plain": [
              "Employee_Number    0\n",
              "Project            0\n",
              "Productivity       0\n",
              "Quality            0\n",
              "Attendance         0\n",
              "dtype: int64"
            ]
          },
          "execution_count": 44,
          "metadata": {},
          "output_type": "execute_result"
        }
      ],
      "source": [
        "# we assume that the data is missing at random so we fill the missing data withe the mean\n",
        "df1['Productivity'].fillna(df1['Productivity'].mean(), inplace=True)\n",
        "df1['Quality'].fillna(df1['Quality'].mean(), inplace=True)\n",
        "df1['Attendance'].fillna(df1['Attendance'].mean(), inplace=True)\n",
        "df1.isnull().sum()"
      ]
    },
    {
      "cell_type": "code",
      "execution_count": 45,
      "metadata": {
        "colab": {
          "base_uri": "https://localhost:8080/"
        },
        "id": "ImtxDix5IQDn",
        "outputId": "70a74fb0-e847-4c98-da8c-0e870c0e9fbb"
      },
      "outputs": [
        {
          "data": {
            "text/plain": [
              "False"
            ]
          },
          "execution_count": 45,
          "metadata": {},
          "output_type": "execute_result"
        }
      ],
      "source": [
        "# check for duplicates\n",
        "df1.duplicated().any()"
      ]
    },
    {
      "cell_type": "code",
      "execution_count": 46,
      "metadata": {
        "colab": {
          "base_uri": "https://localhost:8080/",
          "height": 206
        },
        "id": "W8eaWhjOGk0V",
        "outputId": "e4885e18-8b44-439b-f987-a51a55871318"
      },
      "outputs": [
        {
          "data": {
            "text/html": [
              "<div>\n",
              "<style scoped>\n",
              "    .dataframe tbody tr th:only-of-type {\n",
              "        vertical-align: middle;\n",
              "    }\n",
              "\n",
              "    .dataframe tbody tr th {\n",
              "        vertical-align: top;\n",
              "    }\n",
              "\n",
              "    .dataframe thead th {\n",
              "        text-align: right;\n",
              "    }\n",
              "</style>\n",
              "<table border=\"1\" class=\"dataframe\">\n",
              "  <thead>\n",
              "    <tr style=\"text-align: right;\">\n",
              "      <th></th>\n",
              "      <th>Employee_Number</th>\n",
              "      <th>Project</th>\n",
              "      <th>Productivity</th>\n",
              "      <th>Quality</th>\n",
              "      <th>Attendance</th>\n",
              "    </tr>\n",
              "  </thead>\n",
              "  <tbody>\n",
              "    <tr>\n",
              "      <th>1</th>\n",
              "      <td>397</td>\n",
              "      <td>QQQQ</td>\n",
              "      <td>1.8164</td>\n",
              "      <td>0.8374</td>\n",
              "      <td>1.0000</td>\n",
              "    </tr>\n",
              "    <tr>\n",
              "      <th>2</th>\n",
              "      <td>91</td>\n",
              "      <td>AAAA</td>\n",
              "      <td>1.1702</td>\n",
              "      <td>0.9714</td>\n",
              "      <td>1.0000</td>\n",
              "    </tr>\n",
              "    <tr>\n",
              "      <th>3</th>\n",
              "      <td>186</td>\n",
              "      <td>AAAA</td>\n",
              "      <td>1.2785</td>\n",
              "      <td>0.9704</td>\n",
              "      <td>0.9933</td>\n",
              "    </tr>\n",
              "    <tr>\n",
              "      <th>4</th>\n",
              "      <td>318</td>\n",
              "      <td>AAAA</td>\n",
              "      <td>1.2173</td>\n",
              "      <td>0.9891</td>\n",
              "      <td>1.0000</td>\n",
              "    </tr>\n",
              "    <tr>\n",
              "      <th>5</th>\n",
              "      <td>362</td>\n",
              "      <td>AAAA</td>\n",
              "      <td>1.1918</td>\n",
              "      <td>0.9754</td>\n",
              "      <td>0.9840</td>\n",
              "    </tr>\n",
              "  </tbody>\n",
              "</table>\n",
              "</div>"
            ],
            "text/plain": [
              "   Employee_Number Project  Productivity  Quality  Attendance\n",
              "1              397    QQQQ        1.8164   0.8374      1.0000\n",
              "2               91    AAAA        1.1702   0.9714      1.0000\n",
              "3              186    AAAA        1.2785   0.9704      0.9933\n",
              "4              318    AAAA        1.2173   0.9891      1.0000\n",
              "5              362    AAAA        1.1918   0.9754      0.9840"
            ]
          },
          "execution_count": 46,
          "metadata": {},
          "output_type": "execute_result"
        }
      ],
      "source": [
        "# lets see the top of the dataset\n",
        "df1.head()"
      ]
    },
    {
      "cell_type": "markdown",
      "metadata": {
        "id": "GLcWJHhZIsVG"
      },
      "source": [
        "visualizations"
      ]
    },
    {
      "cell_type": "markdown",
      "metadata": {
        "id": "_a-yzHIiITJq"
      },
      "source": [
        "# ***PERFORMERS***"
      ]
    },
    {
      "cell_type": "code",
      "execution_count": 13,
      "metadata": {},
      "outputs": [
        {
          "name": "stdout",
          "output_type": "stream",
          "text": [
            "Performance\n",
            "Mid Performer     452\n",
            "Low Performer      23\n",
            "High Performer      2\n",
            "Name: count, dtype: int64\n"
          ]
        }
      ],
      "source": [
        "import pandas as pd\n",
        "\n",
        "# Assuming df1 contains your data\n",
        "\n",
        "# Define quartiles for each performance metric\n",
        "productivity_quartiles = df1['Productivity'].quantile([0, 0.25, 0.75, 1])\n",
        "quality_quartiles = df1['Quality'].quantile([0, 0.25, 0.75, 1])\n",
        "attendance_quartiles = df1['Attendance'].quantile([0, 0.25, 0.75, 1])\n",
        "\n",
        "# Function to categorize performance\n",
        "def categorize_performance(row):\n",
        "    if row['Productivity'] > productivity_quartiles[0.75] and row['Quality'] > quality_quartiles[0.75] and row['Attendance'] > attendance_quartiles[0.75]:\n",
        "        return 'High Performer'\n",
        "    elif row['Productivity'] <= productivity_quartiles[0.25] and row['Quality'] <= quality_quartiles[0.25] and row['Attendance'] <= attendance_quartiles[0.25]:\n",
        "        return 'Low Performer'\n",
        "    else:\n",
        "        return 'Mid Performer'\n",
        "\n",
        "# Apply the function to create a new column 'Performance'\n",
        "df1['Performance'] = df1.apply(categorize_performance, axis=1)\n",
        "\n",
        "# Count the number of employees in each performance category\n",
        "performance_counts = df1['Performance'].value_counts()\n",
        "\n",
        "# Display the counts for each category\n",
        "print(performance_counts)\n"
      ]
    },
    {
      "cell_type": "code",
      "execution_count": 14,
      "metadata": {},
      "outputs": [
        {
          "name": "stdout",
          "output_type": "stream",
          "text": [
            "List of High Performers:\n",
            "[126, 445]\n"
          ]
        }
      ],
      "source": [
        "# Filter performers\n",
        "high_performers = df1[df1['Performance'] == 'High Performer']\n",
        "mid_performers = df1[df1['Performance'] == 'Mid Performer']\n",
        "low_performers = df1[df1['Performance'] == 'Low Performer']\n",
        "\n",
        "# Display the list of high performers\n",
        "print(\"List of High Performers:\")\n",
        "high_performers\n",
        "\n",
        "# Get the list of Employee_Numbers for high performers\n",
        "high_performer_employee_numbers = high_performers['Employee_Number'].tolist()\n",
        "\n",
        "# Print the list of Employee_Numbers for high performers\n",
        "print(high_performer_employee_numbers)"
      ]
    },
    {
      "cell_type": "code",
      "execution_count": 15,
      "metadata": {
        "colab": {
          "base_uri": "https://localhost:8080/",
          "height": 542
        },
        "id": "3gspdf97KhUV",
        "outputId": "4d30abcd-2c10-4fa6-80c5-14d509efb015"
      },
      "outputs": [
        {
          "data": {
            "application/vnd.plotly.v1+json": {
              "config": {
                "plotlyServerURL": "https://plot.ly"
              },
              "data": [
                {
                  "hole": 0.3,
                  "labels": [
                    "Low Performers",
                    "Mid Performers",
                    "High Performers"
                  ],
                  "pull": [
                    0,
                    0.1
                  ],
                  "type": "pie",
                  "values": [
                    23,
                    452,
                    2
                  ]
                }
              ],
              "layout": {
                "scene": {
                  "aspectmode": "cube"
                },
                "template": {
                  "data": {
                    "bar": [
                      {
                        "error_x": {
                          "color": "#2a3f5f"
                        },
                        "error_y": {
                          "color": "#2a3f5f"
                        },
                        "marker": {
                          "line": {
                            "color": "#E5ECF6",
                            "width": 0.5
                          },
                          "pattern": {
                            "fillmode": "overlay",
                            "size": 10,
                            "solidity": 0.2
                          }
                        },
                        "type": "bar"
                      }
                    ],
                    "barpolar": [
                      {
                        "marker": {
                          "line": {
                            "color": "#E5ECF6",
                            "width": 0.5
                          },
                          "pattern": {
                            "fillmode": "overlay",
                            "size": 10,
                            "solidity": 0.2
                          }
                        },
                        "type": "barpolar"
                      }
                    ],
                    "carpet": [
                      {
                        "aaxis": {
                          "endlinecolor": "#2a3f5f",
                          "gridcolor": "white",
                          "linecolor": "white",
                          "minorgridcolor": "white",
                          "startlinecolor": "#2a3f5f"
                        },
                        "baxis": {
                          "endlinecolor": "#2a3f5f",
                          "gridcolor": "white",
                          "linecolor": "white",
                          "minorgridcolor": "white",
                          "startlinecolor": "#2a3f5f"
                        },
                        "type": "carpet"
                      }
                    ],
                    "choropleth": [
                      {
                        "colorbar": {
                          "outlinewidth": 0,
                          "ticks": ""
                        },
                        "type": "choropleth"
                      }
                    ],
                    "contour": [
                      {
                        "colorbar": {
                          "outlinewidth": 0,
                          "ticks": ""
                        },
                        "colorscale": [
                          [
                            0,
                            "#0d0887"
                          ],
                          [
                            0.1111111111111111,
                            "#46039f"
                          ],
                          [
                            0.2222222222222222,
                            "#7201a8"
                          ],
                          [
                            0.3333333333333333,
                            "#9c179e"
                          ],
                          [
                            0.4444444444444444,
                            "#bd3786"
                          ],
                          [
                            0.5555555555555556,
                            "#d8576b"
                          ],
                          [
                            0.6666666666666666,
                            "#ed7953"
                          ],
                          [
                            0.7777777777777778,
                            "#fb9f3a"
                          ],
                          [
                            0.8888888888888888,
                            "#fdca26"
                          ],
                          [
                            1,
                            "#f0f921"
                          ]
                        ],
                        "type": "contour"
                      }
                    ],
                    "contourcarpet": [
                      {
                        "colorbar": {
                          "outlinewidth": 0,
                          "ticks": ""
                        },
                        "type": "contourcarpet"
                      }
                    ],
                    "heatmap": [
                      {
                        "colorbar": {
                          "outlinewidth": 0,
                          "ticks": ""
                        },
                        "colorscale": [
                          [
                            0,
                            "#0d0887"
                          ],
                          [
                            0.1111111111111111,
                            "#46039f"
                          ],
                          [
                            0.2222222222222222,
                            "#7201a8"
                          ],
                          [
                            0.3333333333333333,
                            "#9c179e"
                          ],
                          [
                            0.4444444444444444,
                            "#bd3786"
                          ],
                          [
                            0.5555555555555556,
                            "#d8576b"
                          ],
                          [
                            0.6666666666666666,
                            "#ed7953"
                          ],
                          [
                            0.7777777777777778,
                            "#fb9f3a"
                          ],
                          [
                            0.8888888888888888,
                            "#fdca26"
                          ],
                          [
                            1,
                            "#f0f921"
                          ]
                        ],
                        "type": "heatmap"
                      }
                    ],
                    "heatmapgl": [
                      {
                        "colorbar": {
                          "outlinewidth": 0,
                          "ticks": ""
                        },
                        "colorscale": [
                          [
                            0,
                            "#0d0887"
                          ],
                          [
                            0.1111111111111111,
                            "#46039f"
                          ],
                          [
                            0.2222222222222222,
                            "#7201a8"
                          ],
                          [
                            0.3333333333333333,
                            "#9c179e"
                          ],
                          [
                            0.4444444444444444,
                            "#bd3786"
                          ],
                          [
                            0.5555555555555556,
                            "#d8576b"
                          ],
                          [
                            0.6666666666666666,
                            "#ed7953"
                          ],
                          [
                            0.7777777777777778,
                            "#fb9f3a"
                          ],
                          [
                            0.8888888888888888,
                            "#fdca26"
                          ],
                          [
                            1,
                            "#f0f921"
                          ]
                        ],
                        "type": "heatmapgl"
                      }
                    ],
                    "histogram": [
                      {
                        "marker": {
                          "pattern": {
                            "fillmode": "overlay",
                            "size": 10,
                            "solidity": 0.2
                          }
                        },
                        "type": "histogram"
                      }
                    ],
                    "histogram2d": [
                      {
                        "colorbar": {
                          "outlinewidth": 0,
                          "ticks": ""
                        },
                        "colorscale": [
                          [
                            0,
                            "#0d0887"
                          ],
                          [
                            0.1111111111111111,
                            "#46039f"
                          ],
                          [
                            0.2222222222222222,
                            "#7201a8"
                          ],
                          [
                            0.3333333333333333,
                            "#9c179e"
                          ],
                          [
                            0.4444444444444444,
                            "#bd3786"
                          ],
                          [
                            0.5555555555555556,
                            "#d8576b"
                          ],
                          [
                            0.6666666666666666,
                            "#ed7953"
                          ],
                          [
                            0.7777777777777778,
                            "#fb9f3a"
                          ],
                          [
                            0.8888888888888888,
                            "#fdca26"
                          ],
                          [
                            1,
                            "#f0f921"
                          ]
                        ],
                        "type": "histogram2d"
                      }
                    ],
                    "histogram2dcontour": [
                      {
                        "colorbar": {
                          "outlinewidth": 0,
                          "ticks": ""
                        },
                        "colorscale": [
                          [
                            0,
                            "#0d0887"
                          ],
                          [
                            0.1111111111111111,
                            "#46039f"
                          ],
                          [
                            0.2222222222222222,
                            "#7201a8"
                          ],
                          [
                            0.3333333333333333,
                            "#9c179e"
                          ],
                          [
                            0.4444444444444444,
                            "#bd3786"
                          ],
                          [
                            0.5555555555555556,
                            "#d8576b"
                          ],
                          [
                            0.6666666666666666,
                            "#ed7953"
                          ],
                          [
                            0.7777777777777778,
                            "#fb9f3a"
                          ],
                          [
                            0.8888888888888888,
                            "#fdca26"
                          ],
                          [
                            1,
                            "#f0f921"
                          ]
                        ],
                        "type": "histogram2dcontour"
                      }
                    ],
                    "mesh3d": [
                      {
                        "colorbar": {
                          "outlinewidth": 0,
                          "ticks": ""
                        },
                        "type": "mesh3d"
                      }
                    ],
                    "parcoords": [
                      {
                        "line": {
                          "colorbar": {
                            "outlinewidth": 0,
                            "ticks": ""
                          }
                        },
                        "type": "parcoords"
                      }
                    ],
                    "pie": [
                      {
                        "automargin": true,
                        "type": "pie"
                      }
                    ],
                    "scatter": [
                      {
                        "fillpattern": {
                          "fillmode": "overlay",
                          "size": 10,
                          "solidity": 0.2
                        },
                        "type": "scatter"
                      }
                    ],
                    "scatter3d": [
                      {
                        "line": {
                          "colorbar": {
                            "outlinewidth": 0,
                            "ticks": ""
                          }
                        },
                        "marker": {
                          "colorbar": {
                            "outlinewidth": 0,
                            "ticks": ""
                          }
                        },
                        "type": "scatter3d"
                      }
                    ],
                    "scattercarpet": [
                      {
                        "marker": {
                          "colorbar": {
                            "outlinewidth": 0,
                            "ticks": ""
                          }
                        },
                        "type": "scattercarpet"
                      }
                    ],
                    "scattergeo": [
                      {
                        "marker": {
                          "colorbar": {
                            "outlinewidth": 0,
                            "ticks": ""
                          }
                        },
                        "type": "scattergeo"
                      }
                    ],
                    "scattergl": [
                      {
                        "marker": {
                          "colorbar": {
                            "outlinewidth": 0,
                            "ticks": ""
                          }
                        },
                        "type": "scattergl"
                      }
                    ],
                    "scattermapbox": [
                      {
                        "marker": {
                          "colorbar": {
                            "outlinewidth": 0,
                            "ticks": ""
                          }
                        },
                        "type": "scattermapbox"
                      }
                    ],
                    "scatterpolar": [
                      {
                        "marker": {
                          "colorbar": {
                            "outlinewidth": 0,
                            "ticks": ""
                          }
                        },
                        "type": "scatterpolar"
                      }
                    ],
                    "scatterpolargl": [
                      {
                        "marker": {
                          "colorbar": {
                            "outlinewidth": 0,
                            "ticks": ""
                          }
                        },
                        "type": "scatterpolargl"
                      }
                    ],
                    "scatterternary": [
                      {
                        "marker": {
                          "colorbar": {
                            "outlinewidth": 0,
                            "ticks": ""
                          }
                        },
                        "type": "scatterternary"
                      }
                    ],
                    "surface": [
                      {
                        "colorbar": {
                          "outlinewidth": 0,
                          "ticks": ""
                        },
                        "colorscale": [
                          [
                            0,
                            "#0d0887"
                          ],
                          [
                            0.1111111111111111,
                            "#46039f"
                          ],
                          [
                            0.2222222222222222,
                            "#7201a8"
                          ],
                          [
                            0.3333333333333333,
                            "#9c179e"
                          ],
                          [
                            0.4444444444444444,
                            "#bd3786"
                          ],
                          [
                            0.5555555555555556,
                            "#d8576b"
                          ],
                          [
                            0.6666666666666666,
                            "#ed7953"
                          ],
                          [
                            0.7777777777777778,
                            "#fb9f3a"
                          ],
                          [
                            0.8888888888888888,
                            "#fdca26"
                          ],
                          [
                            1,
                            "#f0f921"
                          ]
                        ],
                        "type": "surface"
                      }
                    ],
                    "table": [
                      {
                        "cells": {
                          "fill": {
                            "color": "#EBF0F8"
                          },
                          "line": {
                            "color": "white"
                          }
                        },
                        "header": {
                          "fill": {
                            "color": "#C8D4E3"
                          },
                          "line": {
                            "color": "white"
                          }
                        },
                        "type": "table"
                      }
                    ]
                  },
                  "layout": {
                    "annotationdefaults": {
                      "arrowcolor": "#2a3f5f",
                      "arrowhead": 0,
                      "arrowwidth": 1
                    },
                    "autotypenumbers": "strict",
                    "coloraxis": {
                      "colorbar": {
                        "outlinewidth": 0,
                        "ticks": ""
                      }
                    },
                    "colorscale": {
                      "diverging": [
                        [
                          0,
                          "#8e0152"
                        ],
                        [
                          0.1,
                          "#c51b7d"
                        ],
                        [
                          0.2,
                          "#de77ae"
                        ],
                        [
                          0.3,
                          "#f1b6da"
                        ],
                        [
                          0.4,
                          "#fde0ef"
                        ],
                        [
                          0.5,
                          "#f7f7f7"
                        ],
                        [
                          0.6,
                          "#e6f5d0"
                        ],
                        [
                          0.7,
                          "#b8e186"
                        ],
                        [
                          0.8,
                          "#7fbc41"
                        ],
                        [
                          0.9,
                          "#4d9221"
                        ],
                        [
                          1,
                          "#276419"
                        ]
                      ],
                      "sequential": [
                        [
                          0,
                          "#0d0887"
                        ],
                        [
                          0.1111111111111111,
                          "#46039f"
                        ],
                        [
                          0.2222222222222222,
                          "#7201a8"
                        ],
                        [
                          0.3333333333333333,
                          "#9c179e"
                        ],
                        [
                          0.4444444444444444,
                          "#bd3786"
                        ],
                        [
                          0.5555555555555556,
                          "#d8576b"
                        ],
                        [
                          0.6666666666666666,
                          "#ed7953"
                        ],
                        [
                          0.7777777777777778,
                          "#fb9f3a"
                        ],
                        [
                          0.8888888888888888,
                          "#fdca26"
                        ],
                        [
                          1,
                          "#f0f921"
                        ]
                      ],
                      "sequentialminus": [
                        [
                          0,
                          "#0d0887"
                        ],
                        [
                          0.1111111111111111,
                          "#46039f"
                        ],
                        [
                          0.2222222222222222,
                          "#7201a8"
                        ],
                        [
                          0.3333333333333333,
                          "#9c179e"
                        ],
                        [
                          0.4444444444444444,
                          "#bd3786"
                        ],
                        [
                          0.5555555555555556,
                          "#d8576b"
                        ],
                        [
                          0.6666666666666666,
                          "#ed7953"
                        ],
                        [
                          0.7777777777777778,
                          "#fb9f3a"
                        ],
                        [
                          0.8888888888888888,
                          "#fdca26"
                        ],
                        [
                          1,
                          "#f0f921"
                        ]
                      ]
                    },
                    "colorway": [
                      "#636efa",
                      "#EF553B",
                      "#00cc96",
                      "#ab63fa",
                      "#FFA15A",
                      "#19d3f3",
                      "#FF6692",
                      "#B6E880",
                      "#FF97FF",
                      "#FECB52"
                    ],
                    "font": {
                      "color": "#2a3f5f"
                    },
                    "geo": {
                      "bgcolor": "white",
                      "lakecolor": "white",
                      "landcolor": "#E5ECF6",
                      "showlakes": true,
                      "showland": true,
                      "subunitcolor": "white"
                    },
                    "hoverlabel": {
                      "align": "left"
                    },
                    "hovermode": "closest",
                    "mapbox": {
                      "style": "light"
                    },
                    "paper_bgcolor": "white",
                    "plot_bgcolor": "#E5ECF6",
                    "polar": {
                      "angularaxis": {
                        "gridcolor": "white",
                        "linecolor": "white",
                        "ticks": ""
                      },
                      "bgcolor": "#E5ECF6",
                      "radialaxis": {
                        "gridcolor": "white",
                        "linecolor": "white",
                        "ticks": ""
                      }
                    },
                    "scene": {
                      "xaxis": {
                        "backgroundcolor": "#E5ECF6",
                        "gridcolor": "white",
                        "gridwidth": 2,
                        "linecolor": "white",
                        "showbackground": true,
                        "ticks": "",
                        "zerolinecolor": "white"
                      },
                      "yaxis": {
                        "backgroundcolor": "#E5ECF6",
                        "gridcolor": "white",
                        "gridwidth": 2,
                        "linecolor": "white",
                        "showbackground": true,
                        "ticks": "",
                        "zerolinecolor": "white"
                      },
                      "zaxis": {
                        "backgroundcolor": "#E5ECF6",
                        "gridcolor": "white",
                        "gridwidth": 2,
                        "linecolor": "white",
                        "showbackground": true,
                        "ticks": "",
                        "zerolinecolor": "white"
                      }
                    },
                    "shapedefaults": {
                      "line": {
                        "color": "#2a3f5f"
                      }
                    },
                    "ternary": {
                      "aaxis": {
                        "gridcolor": "white",
                        "linecolor": "white",
                        "ticks": ""
                      },
                      "baxis": {
                        "gridcolor": "white",
                        "linecolor": "white",
                        "ticks": ""
                      },
                      "bgcolor": "#E5ECF6",
                      "caxis": {
                        "gridcolor": "white",
                        "linecolor": "white",
                        "ticks": ""
                      }
                    },
                    "title": {
                      "x": 0.05
                    },
                    "xaxis": {
                      "automargin": true,
                      "gridcolor": "white",
                      "linecolor": "white",
                      "ticks": "",
                      "title": {
                        "standoff": 15
                      },
                      "zerolinecolor": "white",
                      "zerolinewidth": 2
                    },
                    "yaxis": {
                      "automargin": true,
                      "gridcolor": "white",
                      "linecolor": "white",
                      "ticks": "",
                      "title": {
                        "standoff": 15
                      },
                      "zerolinecolor": "white",
                      "zerolinewidth": 2
                    }
                  }
                },
                "title": {
                  "text": "Employee Performance Distribution"
                }
              }
            }
          },
          "metadata": {},
          "output_type": "display_data"
        }
      ],
      "source": [
        "import plotly.graph_objects as go\n",
        "import pandas as pd\n",
        "\n",
        "# Function to categorize performance\n",
        "def categorize_performance(row):\n",
        "    if row['Productivity'] > productivity_quartiles[0.75] and row['Quality'] > quality_quartiles[0.75] and row['Attendance'] > attendance_quartiles[0.75]:\n",
        "        return 'High Performer'\n",
        "    elif row['Productivity'] <= productivity_quartiles[0.25] and row['Quality'] <= quality_quartiles[0.25] and row['Attendance'] <= attendance_quartiles[0.25]:\n",
        "        return 'Low Performer'\n",
        "    else:\n",
        "        return 'Mid Performer'\n",
        "\n",
        "# Apply the function to create a new column 'Performance'\n",
        "df1['Performance'] = df1.apply(categorize_performance, axis=1)\n",
        "\n",
        "# Identify low, mid, and high performers\n",
        "low_performers = df1[df1['Performance'] == 'Low Performer']\n",
        "mid_performers = df1[df1['Performance'] == 'Mid Performer']\n",
        "high_performers = df1[df1['Performance'] == 'High Performer']\n",
        "\n",
        "# Count the number of employees in each category\n",
        "num_low_performers = len(low_performers)\n",
        "num_mid_performers = len(mid_performers)\n",
        "num_high_performers = len(high_performers)\n",
        "\n",
        "# Create labels and values for the pie chart\n",
        "labels = ['Low Performers', 'Mid Performers', 'High Performers']\n",
        "values = [num_low_performers, num_mid_performers, num_high_performers]\n",
        "\n",
        "# Create a 3D pie chart\n",
        "fig = go.Figure(data=[go.Pie(labels=labels, values=values, hole=0.3, pull=[0, 0.1])])\n",
        "\n",
        "# Set layout properties\n",
        "fig.update_layout(title='Employee Performance Distribution',\n",
        "                  scene=dict(aspectmode=\"cube\"))\n",
        "\n",
        "# Show the pie chart\n",
        "fig.show()\n"
      ]
    },
    {
      "cell_type": "markdown",
      "metadata": {
        "id": "TYDJ8zBv2gjq"
      },
      "source": [
        "**CORRELATION**"
      ]
    },
    {
      "cell_type": "code",
      "execution_count": 16,
      "metadata": {
        "colab": {
          "base_uri": "https://localhost:8080/"
        },
        "id": "s5Gir1JbsGWp",
        "outputId": "80b21319-3fb6-4b5b-c0ae-11265bdb03e3"
      },
      "outputs": [
        {
          "name": "stdout",
          "output_type": "stream",
          "text": [
            "              Productivity   Quality  Attendance\n",
            "Productivity      1.000000  0.017899    0.050332\n",
            "Quality           0.017899  1.000000    0.165112\n",
            "Attendance        0.050332  0.165112    1.000000\n"
          ]
        }
      ],
      "source": [
        "# Calculate correlation matrix\n",
        "correlation_matrix = df1[['Productivity', 'Quality', 'Attendance']].corr()\n",
        "print(correlation_matrix)\n"
      ]
    },
    {
      "cell_type": "markdown",
      "metadata": {
        "id": "XEIHWFnQwB_7"
      },
      "source": [
        "1. **Productivity and Quality**:\n",
        "   - Correlation Coefficient: 0.0179\n",
        "   - Interpretation: The correlation between Productivity and Quality is very low (close to zero), indicating a very weak positive linear relationship. This suggests that there is little to no direct linear relationship between an employee's productivity and the quality of their work.\n",
        "\n",
        "2. **Productivity and Attendance**:\n",
        "   - Correlation Coefficient: 0.0503\n",
        "   - Interpretation: The correlation between Productivity and Attendance is also quite low (close to zero), indicating a very weak positive linear relationship. This suggests that there is little to no direct linear relationship between an employee's productivity and their attendance.\n",
        "\n",
        "3. **Quality and Attendance**:\n",
        "   - Correlation Coefficient: 0.1651\n",
        "   - Interpretation: The correlation between Quality and Attendance is moderately low (between 0.1 and 0.3), indicating a weak positive linear relationship. This suggests that there is a slight tendency for employees with higher attendance to also have higher quality work.\n",
        "\n",
        "Overall, based on the correlation coefficients, it appears that there are no strong linear relationships between any pair of variables (Productivity, Quality, and Attendance). This means that changes in one variable are not strongly associated with changes in another variable in a linear fashion."
      ]
    },
    {
      "cell_type": "code",
      "execution_count": 17,
      "metadata": {
        "colab": {
          "base_uri": "https://localhost:8080/",
          "height": 222
        },
        "id": "u5A5tgvymBPf",
        "outputId": "bc4636c0-1a53-4405-be67-19c5c826713b"
      },
      "outputs": [
        {
          "data": {
            "image/png": "[encoded data removed]",
            "text/plain": [
              "<Figure size 1500x500 with 3 Axes>"
            ]
          },
          "metadata": {},
          "output_type": "display_data"
        }
      ],
      "source": [
        "import seaborn as sns\n",
        "import matplotlib.pyplot as plt\n",
        "\n",
        "# Set the style of the plots\n",
        "sns.set(style=\"whitegrid\")\n",
        "\n",
        "# Create subplots for Productivity, Quality, and Attendance\n",
        "fig, axes = plt.subplots(nrows=1, ncols=3, figsize=(15, 5))\n",
        "\n",
        "# Productivity Distribution\n",
        "sns.histplot(df1['Productivity'], kde=True, ax=axes[0], color='skyblue')\n",
        "axes[0].set_title('Productivity Distribution')\n",
        "axes[0].set_xlabel('Productivity Score')\n",
        "\n",
        "# Quality Distribution\n",
        "sns.histplot(df1['Quality'], kde=True, ax=axes[1], color='salmon')\n",
        "axes[1].set_title('Quality Distribution')\n",
        "axes[1].set_xlabel('Quality Score')\n",
        "\n",
        "# Attendance Distribution\n",
        "sns.histplot(df1['Attendance'], kde=True, ax=axes[2], color='lightgreen')\n",
        "axes[2].set_title('Attendance Distribution')\n",
        "axes[2].set_xlabel('Attendance Score')\n",
        "\n",
        "# Set layout\n",
        "plt.tight_layout()"
      ]
    },
    {
      "cell_type": "code",
      "execution_count": 18,
      "metadata": {
        "colab": {
          "base_uri": "https://localhost:8080/",
          "height": 428
        },
        "id": "stAOTtYh2PsB",
        "outputId": "d95b843e-bbfe-4003-bfec-38bc6b5dfc86"
      },
      "outputs": [
        {
          "data": {
            "image/png": "[encoded data removed]",
            "text/plain": [
              "<Figure size 1000x600 with 1 Axes>"
            ]
          },
          "metadata": {},
          "output_type": "display_data"
        }
      ],
      "source": [
        "import matplotlib.pyplot as plt\n",
        "import seaborn as sns\n",
        "\n",
        "# Assuming df1 contains your data and 'Performance' is the column indicating performance category\n",
        "\n",
        "# Set the style for the plot\n",
        "sns.set(style=\"whitegrid\")\n",
        "\n",
        "# Create a boxplot for Employee Performance\n",
        "plt.figure(figsize=(10, 6))\n",
        "sns.boxplot(x='Performance', y='Productivity', data=df1, order=['Low Performer', 'Mid Performer', 'High Performer'])\n",
        "plt.title('Employee Performance Boxplot')\n",
        "plt.xlabel('Performance Category')\n",
        "plt.ylabel('Productivity')\n",
        "plt.show()\n"
      ]
    },
    {
      "cell_type": "code",
      "execution_count": 19,
      "metadata": {
        "colab": {
          "base_uri": "https://localhost:8080/",
          "height": 421
        },
        "id": "0SSAowUL2Pn2",
        "outputId": "69a4ef2f-64ed-4e7d-9c3e-6f3c23e5f3cb"
      },
      "outputs": [
        {
          "data": {
            "image/png": "[encoded data removed]",
            "text/plain": [
              "<Figure size 1000x600 with 1 Axes>"
            ]
          },
          "metadata": {},
          "output_type": "display_data"
        }
      ],
      "source": [
        "import matplotlib.pyplot as plt\n",
        "import seaborn as sns\n",
        "\n",
        "# Assuming df1 contains your data and 'Performance' is the column indicating performance category\n",
        "\n",
        "# Set the style for the plot\n",
        "sns.set(style=\"whitegrid\")\n",
        "\n",
        "# Create a boxplot for Employee Performance\n",
        "plt.figure(figsize=(10, 6))\n",
        "sns.boxplot(x='Performance', y='Attendance', data=df1, order=['Low Performer', 'Mid Performer', 'High Performer'])\n",
        "plt.title('Employee Performance Boxplot')\n",
        "plt.xlabel('Performance Category')\n",
        "plt.ylabel('Attendance')\n",
        "plt.show()\n"
      ]
    },
    {
      "cell_type": "markdown",
      "metadata": {
        "id": "1Qlawe5iItmc"
      },
      "source": [
        "# ***PRODUCTIVITY***"
      ]
    },
    {
      "cell_type": "code",
      "execution_count": 58,
      "metadata": {},
      "outputs": [
        {
          "name": "stdout",
          "output_type": "stream",
          "text": [
            "The average productivity score is: 1.37\n"
          ]
        }
      ],
      "source": [
        "# lets see the average productivity score\n",
        "\n",
        "# Calculate the average productivity score\n",
        "average_productivity_score = df1['Productivity'].mean()\n",
        "\n",
        "print(f'The average productivity score is: {average_productivity_score:.2f}')\n"
      ]
    },
    {
      "cell_type": "code",
      "execution_count": 60,
      "metadata": {},
      "outputs": [
        {
          "name": "stdout",
          "output_type": "stream",
          "text": [
            "The average quality score is: 0.95\n"
          ]
        }
      ],
      "source": [
        "# lets see the average quality score\n",
        "\n",
        "# Calculate the average quality score\n",
        "average_quality_score = df1['Quality'].mean()\n",
        "\n",
        "print(f'The average quality score is: {average_quality_score:.2f}')"
      ]
    },
    {
      "cell_type": "markdown",
      "metadata": {
        "id": "fN5pZAgqJY64"
      },
      "source": [
        "Lets see the most productive employees"
      ]
    },
    {
      "cell_type": "code",
      "execution_count": 48,
      "metadata": {
        "colab": {
          "base_uri": "https://localhost:8080/"
        },
        "id": "FRgm1mqRI7NW",
        "outputId": "11eeb965-32cc-474c-8734-52b9ccad9a9c"
      },
      "outputs": [
        {
          "name": "stdout",
          "output_type": "stream",
          "text": [
            "     Employee_Number  Productivity\n",
            "320              363       10.4948\n",
            "271              182        9.3869\n",
            "344              151        5.0691\n",
            "373              405        3.4487\n",
            "11               454        3.4457\n"
          ]
        }
      ],
      "source": [
        "# Sort the DataFrame by 'Productivity' in descending order\n",
        "most_productive_employees = df1.sort_values(by='Productivity', ascending=False)\n",
        "\n",
        "# Print the top N most productive employees\n",
        "print(most_productive_employees[['Employee_Number', 'Productivity']].head())\n"
      ]
    },
    {
      "cell_type": "markdown",
      "metadata": {
        "id": "13Ca9XKOJohv"
      },
      "source": [
        "Lets see the least productive employees"
      ]
    },
    {
      "cell_type": "code",
      "execution_count": 49,
      "metadata": {
        "colab": {
          "base_uri": "https://localhost:8080/"
        },
        "id": "IcEXJmRsJtRJ",
        "outputId": "6261c2ff-8052-4156-d1d0-b8356b351af3"
      },
      "outputs": [
        {
          "name": "stdout",
          "output_type": "stream",
          "text": [
            "     Employee_Number  Productivity\n",
            "394              260        0.6831\n",
            "115              409        0.6759\n",
            "222               82        0.6395\n",
            "250              201        0.4485\n",
            "328               52        0.3750\n"
          ]
        }
      ],
      "source": [
        "# least productive\n",
        "print(most_productive_employees[['Employee_Number', 'Productivity']].tail())"
      ]
    },
    {
      "cell_type": "code",
      "execution_count": 50,
      "metadata": {},
      "outputs": [
        {
          "data": {
            "image/png": "[encoded data removed]",
            "text/plain": [
              "<Figure size 1000x600 with 1 Axes>"
            ]
          },
          "metadata": {},
          "output_type": "display_data"
        }
      ],
      "source": [
        "import matplotlib.pyplot as plt\n",
        "\n",
        "# Create a histogram\n",
        "plt.figure(figsize=(10, 6))\n",
        "plt.hist(df1['Productivity'], bins=20, edgecolor='k', alpha=0.7)\n",
        "plt.title('Employee Productivity Histogram')\n",
        "plt.xlabel('Productivity')\n",
        "plt.ylabel('Frequency')\n",
        "plt.grid(True)\n",
        "plt.show()\n"
      ]
    },
    {
      "cell_type": "code",
      "execution_count": 51,
      "metadata": {},
      "outputs": [
        {
          "data": {
            "image/png": "[encoded data removed]",
            "text/plain": [
              "<Figure size 1000x600 with 1 Axes>"
            ]
          },
          "metadata": {},
          "output_type": "display_data"
        }
      ],
      "source": [
        "import seaborn as sns\n",
        "import matplotlib.pyplot as plt\n",
        "\n",
        "# Group the data by 'Project' and calculate the average scores\n",
        "average_scores = df1.groupby('Project')[['Productivity', 'Quality', 'Attendance']].mean()\n",
        "\n",
        "# Set the figure size\n",
        "plt.figure(figsize=(10, 6))\n",
        "\n",
        "# Define the color palette\n",
        "colors = ['blue', 'green', 'red']\n",
        "\n",
        "# Create the stacked bar chart\n",
        "sns.barplot(x=average_scores.index, y=average_scores['Productivity'], color=colors[0], label='Productivity')\n",
        "sns.barplot(x=average_scores.index, y=average_scores['Quality'], color=colors[1], bottom=average_scores['Productivity'], label='Quality')\n",
        "sns.barplot(x=average_scores.index, y=average_scores['Attendance'], color=colors[2], bottom=average_scores['Productivity'] + average_scores['Quality'], label='Attendance')\n",
        "\n",
        "# Set the x-axis labels and title\n",
        "plt.xlabel('Project Names')\n",
        "plt.ylabel('Average Score')\n",
        "plt.title('Performance per Project')\n",
        "\n",
        "# Add a legend\n",
        "plt.legend()\n",
        "\n",
        "# Show the plot\n",
        "plt.xticks(rotation=45)\n",
        "plt.tight_layout()\n",
        "plt.show()\n"
      ]
    },
    {
      "cell_type": "code",
      "execution_count": 54,
      "metadata": {},
      "outputs": [
        {
          "data": {
            "text/plain": [
              "Index(['Employee_Number', 'Project', 'Productivity', 'Quality', 'Attendance'], dtype='object')"
            ]
          },
          "execution_count": 54,
          "metadata": {},
          "output_type": "execute_result"
        }
      ],
      "source": [
        "df1.columns"
      ]
    },
    {
      "cell_type": "code",
      "execution_count": 55,
      "metadata": {},
      "outputs": [
        {
          "data": {
            "image/png": "[encoded data removed]",
            "text/plain": [
              "<Figure size 800x600 with 1 Axes>"
            ]
          },
          "metadata": {},
          "output_type": "display_data"
        }
      ],
      "source": [
        "# lets create a scatter plot for employee attendance score against overall performance\n",
        "import matplotlib.pyplot as plt\n",
        "\n",
        "# Create a scatter plot\n",
        "plt.figure(figsize=(8, 6))\n",
        "plt.scatter(df1['Attendance'], df1['Productivity'], alpha=0.5)\n",
        "plt.title('Employee Attendance vs Overall Performance')\n",
        "plt.xlabel('Attendance Score')\n",
        "plt.ylabel('Overall Performance')\n",
        "plt.grid(True)\n",
        "plt.show()\n"
      ]
    }
  ],
  "metadata": {
    "colab": {
      "provenance": []
    },
    "kernelspec": {
      "display_name": "Python 3",
      "name": "python3"
    },
    "language_info": {
      "codemirror_mode": {
        "name": "ipython",
        "version": 3
      },
      "file_extension": ".py",
      "mimetype": "text/x-python",
      "name": "python",
      "nbconvert_exporter": "python",
      "pygments_lexer": "ipython3",
      "version": "3.12.0"
    }
  },
  "nbformat": 4,
  "nbformat_minor": 0
}
