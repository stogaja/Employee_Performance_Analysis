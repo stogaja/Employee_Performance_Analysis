{
 "cells": [
  {
   "cell_type": "code",
   "execution_count": 29,
   "metadata": {},
   "outputs": [],
   "source": [
    "# lets import the libraries we need\n",
    "import pandas as pd\n",
    "import numpy as np\n",
    "import matplotlib.pyplot as plt\n",
    "import seaborn as sns\n",
    "from sklearn import svm\n",
    "from sklearn.model_selection import train_test_split\n",
    "from sklearn.ensemble import RandomForestClassifier\n",
    "from sklearn.preprocessing import StandardScaler, LabelEncoder, Normalizer\n",
    "from sklearn.discriminant_analysis import LinearDiscriminantAnalysis as LDA\n",
    "from sklearn.model_selection import train_test_split\n",
    "from sklearn.metrics import r2_score, f1_score, precision_score, recall_score, classification_report, accuracy_score, confusion_matrix, ConfusionMatrixDisplay\n",
    "from sklearn.neighbors import KNeighborsClassifier\n",
    "from sklearn.naive_bayes import GaussianNB, MultinomialNB, BernoulliNB, ComplementNB, CategoricalNB\n",
    "from sklearn.model_selection import GridSearchCV, RandomizedSearchCV\n",
    "from sklearn.tree import export_graphviz\n",
    "from sklearn.feature_extraction.text import TfidfVectorizer\n",
    "from sklearn.linear_model import LogisticRegression\n",
    "import re\n",
    "from plotly.subplots import make_subplots\n",
    "import plotly.graph_objects as go\n",
    "from six import StringIO\n",
    "from IPython.display import Image\n",
    "import pydotplus\n",
    "import os\n",
    "\n",
    "# filter to ignore warnings\n",
    "import warnings\n",
    "warnings.filterwarnings('ignore')\n"
   ]
  },
  {
   "cell_type": "code",
   "execution_count": 30,
   "metadata": {},
   "outputs": [],
   "source": [
    "# lets read the csv file\n",
    "df = pd.read_excel('Case_Study_Data_.xlsx', sheet_name='Case Study 2')"
   ]
  },
  {
   "cell_type": "code",
   "execution_count": 31,
   "metadata": {},
   "outputs": [
    {
     "data": {
      "text/html": [
       "<div>\n",
       "<style scoped>\n",
       "    .dataframe tbody tr th:only-of-type {\n",
       "        vertical-align: middle;\n",
       "    }\n",
       "\n",
       "    .dataframe tbody tr th {\n",
       "        vertical-align: top;\n",
       "    }\n",
       "\n",
       "    .dataframe thead th {\n",
       "        text-align: right;\n",
       "    }\n",
       "</style>\n",
       "<table border=\"1\" class=\"dataframe\">\n",
       "  <thead>\n",
       "    <tr style=\"text-align: right;\">\n",
       "      <th></th>\n",
       "      <th>Sub_project ID</th>\n",
       "      <th>Project Required Head Count</th>\n",
       "      <th>Total Available Headcount</th>\n",
       "    </tr>\n",
       "  </thead>\n",
       "  <tbody>\n",
       "    <tr>\n",
       "      <th>0</th>\n",
       "      <td>79</td>\n",
       "      <td>6</td>\n",
       "      <td>7</td>\n",
       "    </tr>\n",
       "    <tr>\n",
       "      <th>1</th>\n",
       "      <td>41</td>\n",
       "      <td>46</td>\n",
       "      <td>46</td>\n",
       "    </tr>\n",
       "    <tr>\n",
       "      <th>2</th>\n",
       "      <td>54</td>\n",
       "      <td>22</td>\n",
       "      <td>20</td>\n",
       "    </tr>\n",
       "    <tr>\n",
       "      <th>3</th>\n",
       "      <td>44</td>\n",
       "      <td>12</td>\n",
       "      <td>12</td>\n",
       "    </tr>\n",
       "    <tr>\n",
       "      <th>4</th>\n",
       "      <td>55</td>\n",
       "      <td>789</td>\n",
       "      <td>795</td>\n",
       "    </tr>\n",
       "  </tbody>\n",
       "</table>\n",
       "</div>"
      ],
      "text/plain": [
       "   Sub_project ID  Project Required Head Count  Total Available Headcount\n",
       "0              79                            6                          7\n",
       "1              41                           46                         46\n",
       "2              54                           22                         20\n",
       "3              44                           12                         12\n",
       "4              55                          789                        795"
      ]
     },
     "execution_count": 31,
     "metadata": {},
     "output_type": "execute_result"
    }
   ],
   "source": [
    "# lets see the top of the dataset\n",
    "df.head()"
   ]
  },
  {
   "cell_type": "code",
   "execution_count": 33,
   "metadata": {},
   "outputs": [],
   "source": [
    "# lets create a new column difference which is populated by subtracting Project Required Head Count from Total Available Headcount\n",
    "\n",
    "# Create the 'difference' column\n",
    "df['difference'] = df['Total Available Headcount'] - df['Project Required Head Count']"
   ]
  },
  {
   "cell_type": "code",
   "execution_count": 40,
   "metadata": {},
   "outputs": [
    {
     "name": "stdout",
     "output_type": "stream",
     "text": [
      "We have 34 projects\n"
     ]
    }
   ],
   "source": [
    "# lets see the number of projects\n",
    "print(f'We have {df.shape[0]} projects')"
   ]
  },
  {
   "cell_type": "code",
   "execution_count": 35,
   "metadata": {},
   "outputs": [
    {
     "name": "stdout",
     "output_type": "stream",
     "text": [
      "The count of project IDs with negative difference is: 6\n"
     ]
    }
   ],
   "source": [
    "# lets find the count of project_ids in which the difference is negative\n",
    "# Filter the DataFrame to include only rows where 'difference' is negative, then count unique project IDs\n",
    "negative_difference_projects_count = df[df['difference'] < 0]['Sub_project ID'].nunique()\n",
    "\n",
    "print(f'The count of project IDs with negative difference is: {negative_difference_projects_count}')"
   ]
  },
  {
   "cell_type": "markdown",
   "metadata": {},
   "source": [
    "> Six projects do not have sufficient head count"
   ]
  },
  {
   "cell_type": "code",
   "execution_count": 41,
   "metadata": {},
   "outputs": [
    {
     "name": "stdout",
     "output_type": "stream",
     "text": [
      "The count of project IDs with positive difference is: 11\n"
     ]
    }
   ],
   "source": [
    "# lets find the count of project_ids in which the difference is negative\n",
    "# Filter the DataFrame to include only rows where 'difference' is negative, then count unique project IDs\n",
    "positive_difference_projects_count = df[df['difference'] > 0]['Sub_project ID'].nunique()\n",
    "\n",
    "print(f'The count of project IDs with positive difference is: {positive_difference_projects_count}')"
   ]
  },
  {
   "cell_type": "markdown",
   "metadata": {},
   "source": [
    "> 11 projects do have more than enough head count"
   ]
  },
  {
   "cell_type": "code",
   "execution_count": 36,
   "metadata": {},
   "outputs": [
    {
     "name": "stdout",
     "output_type": "stream",
     "text": [
      "The sum of negative values in the \"difference\" column is: -13\n"
     ]
    }
   ],
   "source": [
    "# lets find the sum of the negative values\n",
    "# Calculate the sum of negative values in the 'difference' column\n",
    "sum_of_negative_values = df[df['difference'] < 0]['difference'].sum()\n",
    "\n",
    "print(f'The sum of negative values in the \"difference\" column is: {sum_of_negative_values}')\n"
   ]
  },
  {
   "cell_type": "markdown",
   "metadata": {},
   "source": [
    "> They are less by 13 employees."
   ]
  },
  {
   "cell_type": "code",
   "execution_count": 37,
   "metadata": {},
   "outputs": [
    {
     "name": "stdout",
     "output_type": "stream",
     "text": [
      "    Sub_project ID  difference\n",
      "2               54          -2\n",
      "19              59          -1\n",
      "21              31          -6\n",
      "22              10          -2\n",
      "23              95          -1\n",
      "27               7          -1\n"
     ]
    }
   ],
   "source": [
    "# lets get the project ids and the difference column with negative values in a table\n",
    "\n",
    "# Filter the DataFrame to include only rows where 'difference' is negative\n",
    "negative_difference_df = df[df['difference'] < 0][['Sub_project ID', 'difference']]\n",
    "\n",
    "# Display the table\n",
    "print(negative_difference_df)\n"
   ]
  },
  {
   "cell_type": "markdown",
   "metadata": {},
   "source": [
    "> These are the projects with less head count and by how many."
   ]
  },
  {
   "cell_type": "code",
   "execution_count": 38,
   "metadata": {},
   "outputs": [
    {
     "name": "stdout",
     "output_type": "stream",
     "text": [
      "The sum of differences above 0 is: 75\n"
     ]
    }
   ],
   "source": [
    "# lets get sum of the differences above 0\n",
    "# Calculate the sum of differences above 0\n",
    "sum_of_positive_differences = df[df['difference'] > 0]['difference'].sum()\n",
    "\n",
    "print(f'The sum of differences above 0 is: {sum_of_positive_differences}')"
   ]
  },
  {
   "cell_type": "markdown",
   "metadata": {},
   "source": [
    "> The excess head counts in other projects is 75"
   ]
  },
  {
   "cell_type": "code",
   "execution_count": 39,
   "metadata": {},
   "outputs": [
    {
     "name": "stdout",
     "output_type": "stream",
     "text": [
      "    Sub_project ID  difference\n",
      "4               55           6\n",
      "5               16          29\n",
      "17              18          17\n",
      "26              81          10\n"
     ]
    }
   ],
   "source": [
    "# lets get project IDs and differences where the difference is greater than 5\n",
    "# Filter the DataFrame to include only rows where 'difference' is greater than 5\n",
    "greater_than_5_df = df[df['difference'] > 5][['Sub_project ID', 'difference']]\n",
    "\n",
    "# Display the table\n",
    "print(greater_than_5_df)\n"
   ]
  },
  {
   "cell_type": "markdown",
   "metadata": {},
   "source": [
    "> Suggestion is we take employees from projects whose head count is more than 5 to fill the projects with lesser head counts."
   ]
  }
 ],
 "metadata": {
  "kernelspec": {
   "display_name": "Python 3",
   "language": "python",
   "name": "python3"
  },
  "language_info": {
   "codemirror_mode": {
    "name": "ipython",
    "version": 3
   },
   "file_extension": ".py",
   "mimetype": "text/x-python",
   "name": "python",
   "nbconvert_exporter": "python",
   "pygments_lexer": "ipython3",
   "version": "3.12.0"
  }
 },
 "nbformat": 4,
 "nbformat_minor": 2
}
